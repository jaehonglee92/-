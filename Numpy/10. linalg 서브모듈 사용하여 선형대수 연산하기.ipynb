{
 "cells": [
  {
   "cell_type": "markdown",
   "metadata": {},
   "source": [
    "## 학습목표\n",
    "### 1. linalg 서브모듈 함수 활용하여 선형대수 연산하기"
   ]
  },
  {
   "cell_type": "code",
   "execution_count": 1,
   "metadata": {},
   "outputs": [],
   "source": [
    "import numpy as np"
   ]
  },
  {
   "cell_type": "markdown",
   "metadata": {},
   "source": [
    "* np.linalg.inv\n",
    "   + 역행렬을 구할 때 사용\n",
    "   + 모든 차원의 값이 같아야 함"
   ]
  },
  {
   "cell_type": "code",
   "execution_count": 5,
   "metadata": {},
   "outputs": [
    {
     "name": "stdout",
     "output_type": "stream",
     "text": [
      "[[[0.60697238 0.59483988 0.92378527]\n",
      "  [0.71214054 0.11005475 0.20416973]\n",
      "  [0.46597842 0.78549735 0.34036458]]\n",
      "\n",
      " [[0.12739794 0.36444835 0.54822546]\n",
      "  [0.97924028 0.06875629 0.78739949]\n",
      "  [0.09280709 0.6783646  0.36991993]]\n",
      "\n",
      " [[0.81982639 0.56475419 0.14016987]\n",
      "  [0.81275545 0.09709291 0.9143747 ]\n",
      "  [0.13986944 0.25172173 0.26883885]]]\n"
     ]
    },
    {
     "data": {
      "text/plain": [
       "array([[[ 1.00000000e+00,  7.57586217e-17,  9.21869495e-17],\n",
       "        [ 1.31259849e-18,  1.00000000e+00, -1.10885678e-17],\n",
       "        [-7.66383242e-17, -1.07606209e-16,  1.00000000e+00]],\n",
       "\n",
       "       [[ 1.00000000e+00, -3.90024232e-17, -2.00820624e-16],\n",
       "        [-2.20190977e-16,  1.00000000e+00, -8.09705652e-17],\n",
       "        [-1.72969672e-16, -1.41867978e-17,  1.00000000e+00]],\n",
       "\n",
       "       [[ 1.00000000e+00,  6.31554351e-17, -1.63318434e-17],\n",
       "        [ 9.47107382e-18,  1.00000000e+00,  9.06670644e-18],\n",
       "        [ 2.02481077e-17, -5.41368494e-18,  1.00000000e+00]]])"
      ]
     },
     "execution_count": 5,
     "metadata": {},
     "output_type": "execute_result"
    }
   ],
   "source": [
    "x = np.random.rand(3, 3, 3)\n",
    "print(x)\n",
    "\n",
    "np.matmul(x, np.linalg.inv(x))\n",
    "x @ np.linalg.inv(x)"
   ]
  },
  {
   "cell_type": "markdown",
   "metadata": {},
   "source": [
    "* np.linalg.solve\n",
    "   + Ax = B 형태의 선형대수식 솔루션을 제공"
   ]
  },
  {
   "cell_type": "code",
   "execution_count": 8,
   "metadata": {},
   "outputs": [
    {
     "name": "stdout",
     "output_type": "stream",
     "text": [
      "[18.  7.]\n"
     ]
    },
    {
     "data": {
      "text/plain": [
       "True"
      ]
     },
     "execution_count": 8,
     "metadata": {},
     "output_type": "execute_result"
    }
   ],
   "source": [
    "A = np.array([[1, 1], [2, 4]])\n",
    "B = np.array([25, 64])\n",
    "\n",
    "x = np.linalg.solve(A, B)\n",
    "\n",
    "print(x)\n",
    "\n",
    "np.allclose(A@x, B)"
   ]
  },
  {
   "cell_type": "code",
   "execution_count": null,
   "metadata": {},
   "outputs": [],
   "source": []
  }
 ],
 "metadata": {
  "kernelspec": {
   "display_name": "Python 3",
   "language": "python",
   "name": "python3"
  },
  "language_info": {
   "codemirror_mode": {
    "name": "ipython",
    "version": 3
   },
   "file_extension": ".py",
   "mimetype": "text/x-python",
   "name": "python",
   "nbconvert_exporter": "python",
   "pygments_lexer": "ipython3",
   "version": "3.7.6"
  }
 },
 "nbformat": 4,
 "nbformat_minor": 4
}
