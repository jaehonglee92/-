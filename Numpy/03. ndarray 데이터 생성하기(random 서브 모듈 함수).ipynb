{
 "metadata": {
  "language_info": {
   "codemirror_mode": {
    "name": "ipython",
    "version": 3
   },
   "file_extension": ".py",
   "mimetype": "text/x-python",
   "name": "python",
   "nbconvert_exporter": "python",
   "pygments_lexer": "ipython3",
   "version": "3.9.0-final"
  },
  "orig_nbformat": 2,
  "kernelspec": {
   "name": "python3",
   "display_name": "Python 3.9.0 64-bit",
   "metadata": {
    "interpreter": {
     "hash": "2ca6c06c2664736a379bfaa58dd53cad7f2925caa4ad652310456acaa1540791"
    }
   }
  }
 },
 "nbformat": 4,
 "nbformat_minor": 2,
 "cells": [
  {
   "source": [
    "### 학습목표\n",
    "* random 서브모듈 함수를 통해 ndarray 생성하기"
   ],
   "cell_type": "markdown",
   "metadata": {}
  },
  {
   "cell_type": "code",
   "execution_count": 2,
   "metadata": {},
   "outputs": [],
   "source": [
    "import numpy as np"
   ]
  },
  {
   "source": [
    "### rand 함수\n",
    "* 0, 1 사이의 분포로 랜덤한 ndarray 생성"
   ],
   "cell_type": "markdown",
   "metadata": {}
  },
  {
   "cell_type": "code",
   "execution_count": 4,
   "metadata": {},
   "outputs": [
    {
     "output_type": "execute_result",
     "data": {
      "text/plain": [
       "array([[0.83618428, 0.96801626, 0.63894719],\n",
       "       [0.30535308, 0.59141505, 0.62383633]])"
      ]
     },
     "metadata": {},
     "execution_count": 4
    }
   ],
   "source": [
    "np.random.rand(2, 3)"
   ]
  },
  {
   "source": [
    "### randn 함수\n",
    "* n: normal distribution(정규분포)\n",
    "* 정규분포로 샘플링된 랜덤 ndarray 생성"
   ],
   "cell_type": "markdown",
   "metadata": {}
  },
  {
   "cell_type": "code",
   "execution_count": 5,
   "metadata": {},
   "outputs": [
    {
     "output_type": "execute_result",
     "data": {
      "text/plain": [
       "array([[[-0.70688061, -0.47313997],\n",
       "        [-0.49355189, -0.44011627],\n",
       "        [-0.47551835,  1.56872091],\n",
       "        [ 0.11820676,  0.10904262]],\n",
       "\n",
       "       [[-0.60494441, -0.99154413],\n",
       "        [-1.76109517, -0.73967819],\n",
       "        [-1.10892108, -1.38231442],\n",
       "        [ 0.60706467,  0.07626948]],\n",
       "\n",
       "       [[ 0.35204458, -0.87800098],\n",
       "        [-1.36500425,  2.13840612],\n",
       "        [ 0.75782441,  1.66184063],\n",
       "        [ 0.85666481, -0.87892385]]])"
      ]
     },
     "metadata": {},
     "execution_count": 5
    }
   ],
   "source": [
    "np.random.randn(3, 4, 2)"
   ]
  },
  {
   "source": [
    "### randint 함수\n",
    "* 특정 정수 사이에서 랜덤하게 샘플링"
   ],
   "cell_type": "markdown",
   "metadata": {}
  },
  {
   "cell_type": "code",
   "execution_count": 8,
   "metadata": {},
   "outputs": [
    {
     "output_type": "execute_result",
     "data": {
      "text/plain": [
       "array([[41, 94, 80, 99,  9],\n",
       "       [19, 56, 37, 55, 82],\n",
       "       [ 8, 44, 86, 50, 89]])"
      ]
     },
     "metadata": {},
     "execution_count": 8
    }
   ],
   "source": [
    "np.random.randint(1, 100, size=(3, 5))"
   ]
  },
  {
   "source": [
    "### seed 함수\n",
    "* 랜덤한 값을 동일하게 다시 생성하고자 할 때 사용"
   ],
   "cell_type": "markdown",
   "metadata": {}
  },
  {
   "cell_type": "code",
   "execution_count": 17,
   "metadata": {},
   "outputs": [],
   "source": [
    "np.random.seed(100)"
   ]
  },
  {
   "cell_type": "code",
   "execution_count": 18,
   "metadata": {},
   "outputs": [
    {
     "output_type": "execute_result",
     "data": {
      "text/plain": [
       "array([[-1.74976547,  0.3426804 ,  1.1530358 , -0.25243604],\n",
       "       [ 0.98132079,  0.51421884,  0.22117967, -1.07004333],\n",
       "       [-0.18949583,  0.25500144, -0.45802699,  0.43516349]])"
      ]
     },
     "metadata": {},
     "execution_count": 18
    }
   ],
   "source": [
    "np.random.randn(3, 4)"
   ]
  },
  {
   "source": [
    "### choice\n",
    "* 주어진 1차원 ndarray로 부터 랜덤으로 샘플링\n",
    "* 정수가 주어진 경우, np.arange(해당숫자)로 간주"
   ],
   "cell_type": "markdown",
   "metadata": {}
  },
  {
   "cell_type": "code",
   "execution_count": 20,
   "metadata": {},
   "outputs": [
    {
     "output_type": "execute_result",
     "data": {
      "text/plain": [
       "array([[83,  4, 91, 59],\n",
       "       [67,  7, 49, 47],\n",
       "       [65, 61, 14, 55]])"
      ]
     },
     "metadata": {},
     "execution_count": 20
    }
   ],
   "source": [
    "np.random.choice(100, size=(3, 4))"
   ]
  },
  {
   "cell_type": "code",
   "execution_count": 21,
   "metadata": {},
   "outputs": [
    {
     "output_type": "execute_result",
     "data": {
      "text/plain": [
       "array([[2.6, 4.9],\n",
       "       [2. , 3. ]])"
      ]
     },
     "metadata": {},
     "execution_count": 21
    }
   ],
   "source": [
    "x = np.array([1, 2, 3, 1.5, 2.6, 4.9])\n",
    "np.random.choice(x, size=(2, 2), replace=False)"
   ]
  },
  {
   "source": [
    "### 확률분포에 따른 ndarray 생성\n",
    "* uniform\n",
    "* normal 등등"
   ],
   "cell_type": "markdown",
   "metadata": {}
  },
  {
   "cell_type": "code",
   "execution_count": 22,
   "metadata": {},
   "outputs": [
    {
     "output_type": "execute_result",
     "data": {
      "text/plain": [
       "array([[2.59132502, 1.03050994, 2.19768675, 2.20760908, 1.21029537],\n",
       "       [1.76388689, 1.07295211, 2.78082313, 2.96184171, 1.11988398],\n",
       "       [2.78109189, 2.153803  , 2.48495938, 2.26036787, 2.16368438],\n",
       "       [1.04087826, 1.42005316, 2.08936976, 2.53823034, 1.50139046]])"
      ]
     },
     "metadata": {},
     "execution_count": 22
    }
   ],
   "source": [
    "np.random.uniform(1.0, 3.0, size=(4, 5))"
   ]
  },
  {
   "cell_type": "code",
   "execution_count": 24,
   "metadata": {},
   "outputs": [
    {
     "output_type": "execute_result",
     "data": {
      "text/plain": [
       "array([[-0.07961125, -0.88973148, -0.88179839,  0.01863895],\n",
       "       [ 0.23784462,  0.01354855, -1.6355294 , -1.04420988],\n",
       "       [ 0.61303888,  0.73620521,  1.02692144, -1.43219061]])"
      ]
     },
     "metadata": {},
     "execution_count": 24
    }
   ],
   "source": [
    "np.random.normal(size=(3, 4)) #same\n",
    "np.random.randn(3, 4) #same"
   ]
  }
 ]
}