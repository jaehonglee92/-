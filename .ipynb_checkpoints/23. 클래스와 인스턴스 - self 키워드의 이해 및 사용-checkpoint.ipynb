{
 "cells": [
  {
   "cell_type": "markdown",
   "metadata": {},
   "source": [
    "### self\n",
    "* 파이썬의 method는 항상 첫번째로 인자로 self를 전달\n",
    "* self는 현재 해당 method가 호출되는 객체 자신을 가리킴\n",
    "* C++/C#, java의 this에 해당\n",
    "* 역시, 이름이 self일 필요는 없으나, 위치는 항상 맨 처음의 parameter이며 관례적으로 self로 사용"
   ]
  },
  {
   "cell_type": "code",
   "execution_count": 5,
   "metadata": {},
   "outputs": [
    {
     "name": "stdout",
     "output_type": "stream",
     "text": [
      "self:  <__main__.Person object at 0x7fcde4fa9a50>\n",
      "self:  <__main__.Person object at 0x7fcde4fa9a90>\n",
      "<__main__.Person object at 0x7fcde4fa9a50>\n",
      "<__main__.Person object at 0x7fcde4fa9a90>\n"
     ]
    }
   ],
   "source": [
    "class Person:\n",
    "    def __init__(self, name, age):\n",
    "        print('self: ', self)\n",
    "        self.name = name\n",
    "        self.age = age\n",
    "        \n",
    "    def sleep(self):\n",
    "        print('self: ', self)\n",
    "        print(self.name, '은 잠을 잡니다.')\n",
    "    \n",
    "a = Person('Aaron', 20)\n",
    "b = Person('Bob', 30)\n",
    "\n",
    "print(a)\n",
    "print(b)\n",
    "\n",
    "c = [1, 2, 3, 4]\n",
    "c.append(5)"
   ]
  }
 ],
 "metadata": {
  "kernelspec": {
   "display_name": "Python 3",
   "language": "python",
   "name": "python3"
  },
  "language_info": {
   "codemirror_mode": {
    "name": "ipython",
    "version": 3
   },
   "file_extension": ".py",
   "mimetype": "text/x-python",
   "name": "python",
   "nbconvert_exporter": "python",
   "pygments_lexer": "ipython3",
   "version": "3.7.6"
  }
 },
 "nbformat": 4,
 "nbformat_minor": 4
}
