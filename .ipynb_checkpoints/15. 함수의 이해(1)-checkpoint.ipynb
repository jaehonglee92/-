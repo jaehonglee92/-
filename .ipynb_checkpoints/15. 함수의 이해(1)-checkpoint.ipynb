{
 "cells": [
  {
   "cell_type": "markdown",
   "metadata": {},
   "source": [
    "### 함수?\n",
    "* 함수란 우리가 알고 있는 개념처럼 주어진 입력(input)에 대해서 의도된 출력(output)을 전달하는 역할."
   ]
  },
  {
   "cell_type": "code",
   "execution_count": 3,
   "metadata": {},
   "outputs": [
    {
     "name": "stdout",
     "output_type": "stream",
     "text": [
      "4\n",
      "10\n"
     ]
    }
   ],
   "source": [
    "# 내장 함수의 예\n",
    "a = [1, 2, 3, 4]\n",
    "length = len(a)\n",
    "print(length)\n",
    "\n",
    "summation = sum(a)\n",
    "print(summation)"
   ]
  },
  {
   "cell_type": "markdown",
   "metadata": {},
   "source": [
    "### 함수의 정의\n",
    "* 정의 시 최초에 def 키워드 사용\n",
    "* argument 정의 (함수에 입력으로 전달하는 값을 의미. argument 또는 parameter라고 함)\n",
    "* :(콜론) -> 함수 역시 코드 블록이기 때문에 콜론(:) 필요\n",
    "* body (함수의 구현 부분, 함수 역시 코드 블록이기 때문에 들여쓰기 된 부분까지 함수의 코드블록으로 인지함)\n",
    "  + 함수를 호출한 코드(caller)로 함수가 해당 기능을 수행하고 완료된 값(output)을 전달하기 위해 return 키워드 사용\n",
    "  + 즉, return 이후에 오는 값을 caller로 전달\n",
    "* 함수의 네이밍 역시 중요\n",
    "  + 즉, 어떤 기능을 하는 함수인지 이름으로 최대한 나타낼 수 있게 해야함\n",
    "  + e.g) get_a (X) get_student_name (O)"
   ]
  },
  {
   "cell_type": "code",
   "execution_count": 4,
   "metadata": {},
   "outputs": [
    {
     "data": {
      "text/plain": [
       "6"
      ]
     },
     "execution_count": 4,
     "metadata": {},
     "output_type": "execute_result"
    }
   ],
   "source": [
    "def add(x, y):\n",
    "    n = x + y\n",
    "    return n\n",
    "\n",
    "add(2, 4)"
   ]
  },
  {
   "cell_type": "markdown",
   "metadata": {},
   "source": [
    "### 함수의 사용(호출)\n",
    "* 함수명(파라미터1, 파라미터2, ... 파라미터n)\n",
    "* 위와 같이 정의된 함수의 이름과 전달되는 parameter(인자)를 괄호 안에 전달하여 함수를 호출\n",
    "* 함수가 호출되면 실행의 흐름이 호출자(caller)에서 함수(callee)로 변경됨\n",
    "* 함수의 입력(인풋) 파라미터(parameter), 아규먼트(argument)라고도 함"
   ]
  },
  {
   "cell_type": "code",
   "execution_count": 5,
   "metadata": {},
   "outputs": [],
   "source": [
    "c = add(2, 5)"
   ]
  },
  {
   "cell_type": "markdown",
   "metadata": {},
   "source": [
    "### 함수 네이밍(naming)\n",
    "* 함수 이름으로부터 기능이 명시\n",
    "* 의미와 반대되거나 맞지 않는 이름은 사용 금지"
   ]
  },
  {
   "cell_type": "code",
   "execution_count": 6,
   "metadata": {},
   "outputs": [
    {
     "name": "stdout",
     "output_type": "stream",
     "text": [
      "1\n"
     ]
    }
   ],
   "source": [
    "def add(x, y):\n",
    "    sub = x - y\n",
    "    return sub\n",
    "print(add(4, 3))"
   ]
  },
  {
   "cell_type": "markdown",
   "metadata": {},
   "source": [
    "### parameter(argument) 인자\n",
    "* 함수에 전달되는 입력(input)\n",
    "* 입력이 필요하지 않을 수도, 1개의 입력만 있을 수도, 여러 개의 입력이 존재할 수도 있음\n",
    "* 파라미터로 int, string, float, booln, list, dict 등등 어떤 파이썬 객체도 전달 가능\n",
    "* 심지어, 함수도 함수의 파라미터로 전달 가능\n",
    "* python의 경우, 타입 명시가 없기 때문에, 함수 생성 시, 의도된 파라미터의 타입에 맞게 입력을 전달하는 것이 중요\n",
    "* 또한 파라미터를 전달할 때, 정의된 순서에 따라 값을 전달하는 것이 중요"
   ]
  },
  {
   "cell_type": "code",
   "execution_count": 7,
   "metadata": {},
   "outputs": [
    {
     "name": "stdout",
     "output_type": "stream",
     "text": [
      "10 20\n",
      "30\n"
     ]
    }
   ],
   "source": [
    "def test(x, y):\n",
    "    print(x, y)\n",
    "    n = x + y\n",
    "    return n\n",
    "\n",
    "a = test(10, 20)\n",
    "print(a)"
   ]
  },
  {
   "cell_type": "markdown",
   "metadata": {},
   "source": [
    "### Default parameter (기본 인자)\n",
    "* 함수의 파라미터에 기본값 지정 가능\n",
    "* 파라미터를 명시하지 않을 경우, 지정된 기본값으로 대체"
   ]
  },
  {
   "cell_type": "code",
   "execution_count": 9,
   "metadata": {},
   "outputs": [
    {
     "data": {
      "text/plain": [
       "35"
      ]
     },
     "execution_count": 9,
     "metadata": {},
     "output_type": "execute_result"
    }
   ],
   "source": [
    "def add(x, y, z=5):\n",
    "    a = x + y + z\n",
    "    return a\n",
    "\n",
    "add(10, 20)"
   ]
  },
  {
   "cell_type": "code",
   "execution_count": null,
   "metadata": {},
   "outputs": [],
   "source": []
  }
 ],
 "metadata": {
  "kernelspec": {
   "display_name": "Python 3",
   "language": "python",
   "name": "python3"
  },
  "language_info": {
   "codemirror_mode": {
    "name": "ipython",
    "version": 3
   },
   "file_extension": ".py",
   "mimetype": "text/x-python",
   "name": "python",
   "nbconvert_exporter": "python",
   "pygments_lexer": "ipython3",
   "version": "3.7.6"
  }
 },
 "nbformat": 4,
 "nbformat_minor": 4
}
