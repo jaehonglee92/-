{
 "cells": [
  {
   "cell_type": "markdown",
   "metadata": {},
   "source": [
    "### condition (조건문)\n",
    "* 특정 조건을 만족하는 경우에만 수행할 작업이 있는 경우 사용\n",
    "* 모든 조건은 boolean으로 표현됨\n",
    "* if, elif, else 키워드가 사용\n",
    "* 조건문의 경우 if, elif, else 블록에 종속된 코드는 들여쓰기로 표현 가능\n",
    "* 즉 아래 코드에서와 같이, 조건문 아래에 들여쓰기된 두 줄의 코드만이 조건문의 조건에 따라 수행될 수도, 수행되지 않을 수도 있는 코드\n",
    "* 들여쓰기가 된 코드를 블록(block), 또는 코드블록(code block)이라고 함\n",
    "* python에서 모든 블록의 시작점의 마지막에는 :(콜론, colon) 추가가 필요"
   ]
  },
  {
   "cell_type": "code",
   "execution_count": 1,
   "metadata": {},
   "outputs": [
    {
     "name": "stdout",
     "output_type": "stream",
     "text": [
      "6 is greater than 5\n",
      "Yeah, it is true\n",
      "This code is not belongs to \"if\" statements\n"
     ]
    }
   ],
   "source": [
    "if 6>=5:\n",
    "    print('6 is greater than 5')\n",
    "    print('Yeah, it is true')\n",
    "print('This code is not belongs to \"if\" statements')"
   ]
  },
  {
   "cell_type": "markdown",
   "metadata": {},
   "source": [
    "* Logical AND, OR, NOT\n",
    "    + 조건문에 사용되는 조건의 경우, boolean이기 때문에, 논리식 AND, OR, NOT이 사용가능\n",
    "    + AND: and\n",
    "    + OR: or\n",
    "    + NOT: not\n",
    "* 논리표\n",
    "    + AND\n",
    "        + T AND T: T\n",
    "        + T AND F: F\n",
    "        + F AND T: F\n",
    "        + F AND F: F\n",
    "    + OR\n",
    "        + T OR T: T\n",
    "        + T OR F: T\n",
    "        + F OR T: T\n",
    "        + F OR F: F\n",
    "    + NOT\n",
    "        + NOT T: F\n",
    "        + NOT F: T\n",
    "* 우선순위\n",
    "    + NOT > AND > OR"
   ]
  },
  {
   "cell_type": "code",
   "execution_count": 3,
   "metadata": {},
   "outputs": [
    {
     "name": "stdout",
     "output_type": "stream",
     "text": [
      "that is true\n"
     ]
    }
   ],
   "source": [
    "a = 10\n",
    "b = 8\n",
    "c = 11\n",
    "\n",
    "if a==10 and b==8:\n",
    "    print('that is true')"
   ]
  },
  {
   "cell_type": "markdown",
   "metadata": {},
   "source": [
    "* if의 조건이 bool이 아닌 경우\n",
    "    + 일반적으로는 조건문에는 bool이 주로 위치함\n",
    "    + 하지만 정수, 실수, 문자열 리스트 등 기본 타입도 조건에 사용 가능"
   ]
  },
  {
   "cell_type": "markdown",
   "metadata": {},
   "source": []
  }
 ],
 "metadata": {
  "kernelspec": {
   "display_name": "Python 3",
   "language": "python",
   "name": "python3"
  },
  "language_info": {
   "codemirror_mode": {
    "name": "ipython",
    "version": 3
   },
   "file_extension": ".py",
   "mimetype": "text/x-python",
   "name": "python",
   "nbconvert_exporter": "python",
   "pygments_lexer": "ipython3",
   "version": "3.7.6"
  }
 },
 "nbformat": 4,
 "nbformat_minor": 4
}
