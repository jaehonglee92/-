{
 "metadata": {
  "language_info": {
   "codemirror_mode": {
    "name": "ipython",
    "version": 3
   },
   "file_extension": ".py",
   "mimetype": "text/x-python",
   "name": "python",
   "nbconvert_exporter": "python",
   "pygments_lexer": "ipython3",
   "version": "3.9.0-final"
  },
  "orig_nbformat": 2,
  "kernelspec": {
   "name": "python3",
   "display_name": "Python 3.9.0 64-bit",
   "metadata": {
    "interpreter": {
     "hash": "2ca6c06c2664736a379bfaa58dd53cad7f2925caa4ad652310456acaa1540791"
    }
   }
  }
 },
 "nbformat": 4,
 "nbformat_minor": 2,
 "cells": [
  {
   "source": [
    "### 연습문제)\n",
    "+ 복소수 클래스를 정의\n",
    "+ 덧셈, 뺄셈, 곱셈 연산자 지원\n",
    "+ 길이 (복소수의 크기) 지원\n",
    "+ 복소수 출력 '1+4j'와 같이 표현\n",
    "+ 비교 연산 ==, != 지원\n",
    "+ =, <=, <, > 연산 지원\n",
    "+ 절대값 지원"
   ],
   "cell_type": "markdown",
   "metadata": {}
  },
  {
   "cell_type": "code",
   "execution_count": 10,
   "metadata": {},
   "outputs": [
    {
     "output_type": "execute_result",
     "data": {
      "text/plain": [
       "2.23606797749979"
      ]
     },
     "metadata": {},
     "execution_count": 10
    }
   ],
   "source": [
    "import math\n",
    "\n",
    "class ComplexNumber:\n",
    "    def __init__(self, real, img):\n",
    "        self.real = real\n",
    "        self.img = img\n",
    "\n",
    "    def __add__(self, cn):\n",
    "        return ComplexNumber(self.real + cn.real, self.img + cn.img)\n",
    "\n",
    "    def __sub__(self, cn):\n",
    "        return ComplexNumber(self.real - cn.real, self.img - cn.img)\n",
    "\n",
    "    def __mul__(self, x):\n",
    "        if type(x) == int:\n",
    "            return ComplexNumber(self.real * x, self.img * x)\n",
    "        elif type(x) == ComplexNumber:\n",
    "            return ComplexNumber(self.real * x.real - self.img * self.img * x.img, self.real * x.img + self.img * x.real)\n",
    "\n",
    "    def __eq__(self, cn):\n",
    "        return self.real == cn.real and self.img == cn.img\n",
    "\n",
    "    def __ne__(self, cn):\n",
    "        return not (self.real == cn.real and self.img == cn.img)\n",
    "\n",
    "    def __abs__(self):\n",
    "        return math.sqrt(self.real ** 2 + self.img ** 2)\n",
    "\n",
    "    def __len__(self):\n",
    "        return int(math.sqrt(self.real ** 2 + self.img ** 2))\n",
    "\n",
    "    def __str__(self):\n",
    "        if self.img > 0:\n",
    "            return '{} + {}j'.format(self.real, self.img)\n",
    "        else:\n",
    "            return '{} - {}j'.format(self.real, abs(self.img))\n",
    "\n",
    "a = ComplexNumber(1, 2)\n",
    "b = ComplexNumber(3, 5)\n",
    "\n",
    "abs(a)"
   ]
  },
  {
   "cell_type": "code",
   "execution_count": null,
   "metadata": {},
   "outputs": [],
   "source": []
  }
 ]
}
