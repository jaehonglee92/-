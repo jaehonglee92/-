{
 "metadata": {
  "language_info": {
   "codemirror_mode": {
    "name": "ipython",
    "version": 3
   },
   "file_extension": ".py",
   "mimetype": "text/x-python",
   "name": "python",
   "nbconvert_exporter": "python",
   "pygments_lexer": "ipython3",
   "version": "3.9.0-final"
  },
  "orig_nbformat": 2,
  "kernelspec": {
   "name": "python3",
   "display_name": "Python 3.9.0 64-bit",
   "metadata": {
    "interpreter": {
     "hash": "2ca6c06c2664736a379bfaa58dd53cad7f2925caa4ad652310456acaa1540791"
    }
   }
  }
 },
 "nbformat": 4,
 "nbformat_minor": 2,
 "cells": [
  {
   "source": [
    "* 1. 다른 문자와 함께 사용되어 특수한 의미를 지님\n",
    "    + \\d: 숫자를 [0-9]와 동일\n",
    "    + \\D: 숫자가 아닌 문자 [^0-9]와 동일\n",
    "    + \\s: 공백 문자(띄어쓰기, 탭, 엔터 등)\n",
    "    + \\w: 알파벳 대소문자, 숫자 [0-9a-zA-Z]와 동일\n",
    "    + \\W: non alpha-numeric 문자 [^0-9a-zA-Z]와 동일\n",
    "* 메타 캐릭터가 캐릭터 자체를 표현하도록 할 경우 사용\n",
    "    + \\. , \\\\"
   ],
   "cell_type": "markdown",
   "metadata": {}
  },
  {
   "cell_type": "code",
   "execution_count": 2,
   "metadata": {},
   "outputs": [],
   "source": [
    "import re"
   ]
  },
  {
   "cell_type": "code",
   "execution_count": 3,
   "metadata": {},
   "outputs": [
    {
     "output_type": "execute_result",
     "data": {
      "text/plain": [
       "<re.Match object; span=(5, 9), match=' and'>"
      ]
     },
     "metadata": {},
     "execution_count": 3
    }
   ],
   "source": [
    "re.search('\\sand', 'apple and banana')"
   ]
  },
  {
   "cell_type": "code",
   "execution_count": 4,
   "metadata": {},
   "outputs": [
    {
     "output_type": "execute_result",
     "data": {
      "text/plain": [
       "<re.Match object; span=(0, 4), match='.and'>"
      ]
     },
     "metadata": {},
     "execution_count": 4
    }
   ],
   "source": [
    "re.search(r'.and', '.and')"
   ]
  },
  {
   "cell_type": "code",
   "execution_count": 5,
   "metadata": {},
   "outputs": [
    {
     "output_type": "execute_result",
     "data": {
      "text/plain": [
       "<re.Match object; span=(0, 3), match='pig'>"
      ]
     },
     "metadata": {},
     "execution_count": 5
    }
   ],
   "source": [
    "re.search(r'p.g', 'pig')"
   ]
  },
  {
   "source": [
    "### 반복패턴\n",
    "* 패턴 뒤에 위치하는 *, +, ?는 해당 패턴이 반복적으로 존재하는지 검사\n",
    "    + '+' -> 1번 이상의 패턴이 발생\n",
    "    + '*' -> 0번 이상의 패턴이 발생\n",
    "    + '?' -> 0 혹은 1번의 패턴이 발생\n",
    "* 반복을 패턴의 경우 greedy하게 검색 함. 즉 가능한 많은 부분이 매칭되도록 함\n",
    "    + e.g) a[bcd]*b 패턴을 abcbdccb에서 검색하는 경우\n",
    "        + ab, abcb, abcbdccb 전부 가능하지만 최대한 많은 부분이 매칭된 abcbdccb가 검색된 패턴"
   ],
   "cell_type": "markdown",
   "metadata": {}
  },
  {
   "cell_type": "code",
   "execution_count": 6,
   "metadata": {},
   "outputs": [
    {
     "output_type": "execute_result",
     "data": {
      "text/plain": [
       "<re.Match object; span=(0, 8), match='abcbdccb'>"
      ]
     },
     "metadata": {},
     "execution_count": 6
    }
   ],
   "source": [
    "re.search(r'a[bcd]*b', 'abcbdccb')"
   ]
  },
  {
   "cell_type": "code",
   "execution_count": 8,
   "metadata": {},
   "outputs": [
    {
     "output_type": "execute_result",
     "data": {
      "text/plain": [
       "<re.Match object; span=(0, 6), match='banana'>"
      ]
     },
     "metadata": {},
     "execution_count": 8
    }
   ],
   "source": [
    "re.search(r'b\\w+a', 'banana')"
   ]
  },
  {
   "cell_type": "code",
   "execution_count": 9,
   "metadata": {},
   "outputs": [
    {
     "output_type": "execute_result",
     "data": {
      "text/plain": [
       "<re.Match object; span=(1, 3), match='ii'>"
      ]
     },
     "metadata": {},
     "execution_count": 9
    }
   ],
   "source": [
    "re.search(r'i+', 'piigiii')"
   ]
  },
  {
   "cell_type": "code",
   "execution_count": 14,
   "metadata": {},
   "outputs": [],
   "source": [
    "re.search(r'pi+g', 'pg') #None"
   ]
  },
  {
   "cell_type": "code",
   "execution_count": 13,
   "metadata": {},
   "outputs": [
    {
     "output_type": "execute_result",
     "data": {
      "text/plain": [
       "<re.Match object; span=(0, 2), match='pg'>"
      ]
     },
     "metadata": {},
     "execution_count": 13
    }
   ],
   "source": [
    "re.search(r'pi*g', 'pg')"
   ]
  },
  {
   "cell_type": "code",
   "execution_count": 15,
   "metadata": {},
   "outputs": [
    {
     "output_type": "execute_result",
     "data": {
      "text/plain": [
       "<re.Match object; span=(0, 5), match='https'>"
      ]
     },
     "metadata": {},
     "execution_count": 15
    }
   ],
   "source": [
    "re.search(r'https?', 'https://www.naver.com')"
   ]
  },
  {
   "source": [
    "### ^*, *$\n",
    "* ^ 문자열의 맨 앞부터 일치하는 경우 검색\n",
    "* $ 문자열의 맨 뒤부터 일치하는 경우 검색"
   ],
   "cell_type": "markdown",
   "metadata": {}
  },
  {
   "cell_type": "code",
   "execution_count": 16,
   "metadata": {},
   "outputs": [
    {
     "output_type": "execute_result",
     "data": {
      "text/plain": [
       "<re.Match object; span=(2, 6), match='bana'>"
      ]
     },
     "metadata": {},
     "execution_count": 16
    }
   ],
   "source": [
    "re.search(r'b\\w+a', 'cabana')"
   ]
  },
  {
   "cell_type": "code",
   "execution_count": 17,
   "metadata": {},
   "outputs": [],
   "source": [
    "re.search(r'^b\\w+a', 'cabana')"
   ]
  },
  {
   "cell_type": "code",
   "execution_count": 18,
   "metadata": {},
   "outputs": [
    {
     "output_type": "execute_result",
     "data": {
      "text/plain": [
       "<re.Match object; span=(0, 6), match='babana'>"
      ]
     },
     "metadata": {},
     "execution_count": 18
    }
   ],
   "source": [
    "re.search(r'b\\w+a', 'babana')"
   ]
  },
  {
   "cell_type": "code",
   "execution_count": 19,
   "metadata": {},
   "outputs": [
    {
     "output_type": "execute_result",
     "data": {
      "text/plain": [
       "<re.Match object; span=(2, 6), match='bana'>"
      ]
     },
     "metadata": {},
     "execution_count": 19
    }
   ],
   "source": [
    "re.search(r'b\\w+a$', 'cabana')"
   ]
  },
  {
   "cell_type": "code",
   "execution_count": 21,
   "metadata": {},
   "outputs": [],
   "source": [
    "re.search(r'b\\w+a$', 'cabanap')"
   ]
  },
  {
   "source": [
    "### grouping\n",
    "* ()을 사용하여 grouping\n",
    "* 매칭 결과를 각 그룹별로 분리 가능\n",
    "* 패턴 명시할 때, 각 그룹을 괄호() 안에 넣어 분리하여 사용"
   ],
   "cell_type": "markdown",
   "metadata": {}
  },
  {
   "cell_type": "code",
   "execution_count": 28,
   "metadata": {},
   "outputs": [
    {
     "output_type": "stream",
     "name": "stdout",
     "text": [
      "test\ngmail.com\ntest@gmail.com\n"
     ]
    }
   ],
   "source": [
    "m = re.search(r'(\\w+)@(.+)', 'test@gmail.com')\n",
    "print(m.group(1))\n",
    "print(m.group(2))\n",
    "print(m.group(0))"
   ]
  }
 ]
}
