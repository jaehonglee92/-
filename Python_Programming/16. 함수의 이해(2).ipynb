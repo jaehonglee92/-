{
 "cells": [
  {
   "cell_type": "markdown",
   "metadata": {},
   "source": [
    "### 기본 파라미터의 다른 예\n",
    "* print 함수\n",
    "  + sep, end, file등 여러 기본 파라미터를 가짐"
   ]
  },
  {
   "cell_type": "code",
   "execution_count": 1,
   "metadata": {},
   "outputs": [
    {
     "name": "stdout",
     "output_type": "stream",
     "text": [
      "1 2 3\n",
      "2 3 4\n"
     ]
    }
   ],
   "source": [
    "print(1, 2, 3) # shift + Tab으로 확인\n",
    "print(2, 3, 4)"
   ]
  },
  {
   "cell_type": "markdown",
   "metadata": {},
   "source": [
    "### Default parameter 사용 시 주의점\n",
    "* 디폴트 파라미터 뒤에 일반 파라미터가 위치할 수 없음\n",
    "* e.g) 올바른 예\n",
    "  + def test(a,b,c=1)\n",
    "  + def test(a, b=1, c=2)\n",
    "  + def test(a=1, b=1, c=3)\n",
    "* e.g) 올바르지 않은 예\n",
    "  + def test(a, b=1, c)\n",
    "  + def test(a=1, b, c)\n",
    "  + def test(a=1, b=1, c)"
   ]
  },
  {
   "cell_type": "code",
   "execution_count": 3,
   "metadata": {},
   "outputs": [
    {
     "name": "stdout",
     "output_type": "stream",
     "text": [
      "10 20 1\n"
     ]
    }
   ],
   "source": [
    "def test(a, b, c=1):\n",
    "    print(a, b, c)\n",
    "    \n",
    "test(10, 20, 1)"
   ]
  },
  {
   "cell_type": "code",
   "execution_count": 4,
   "metadata": {},
   "outputs": [
    {
     "data": {
      "text/plain": [
       "15"
      ]
     },
     "execution_count": 4,
     "metadata": {},
     "output_type": "execute_result"
    }
   ],
   "source": [
    "def test(x, y, z):\n",
    "    a = x+y+z\n",
    "    return a\n",
    "\n",
    "test(10, 2, 3)"
   ]
  },
  {
   "cell_type": "markdown",
   "metadata": {},
   "source": [
    "### return (리턴)\n",
    "* 기본적으로 함수의 종료를 명시\n",
    "  + return 옆에 값이나 수식이 있다면 해당 값을 호출자(caller)에게 반환(전달)\n",
    "  + return만 존재하면 None 반환\n",
    "  + return이 없는 경우, 기본적으로 함수 코드 블록이 종료되면 종료로 간주. 이때도 None 변환"
   ]
  },
  {
   "cell_type": "code",
   "execution_count": 5,
   "metadata": {},
   "outputs": [
    {
     "data": {
      "text/plain": [
       "15"
      ]
     },
     "execution_count": 5,
     "metadata": {},
     "output_type": "execute_result"
    }
   ],
   "source": [
    "def weird_multiply(x, y):\n",
    "    if x > 10:\n",
    "        return x * y\n",
    "    return (x + 2) * y\n",
    "\n",
    "weird_multiply(1, 5)"
   ]
  },
  {
   "cell_type": "markdown",
   "metadata": {},
   "source": [
    "### multiple return (복수 값 반환)\n",
    "* tuple 반환을 하여 복수개의 값 리턴 가능"
   ]
  },
  {
   "cell_type": "code",
   "execution_count": 8,
   "metadata": {},
   "outputs": [
    {
     "name": "stdout",
     "output_type": "stream",
     "text": [
      "<class 'tuple'>\n",
      "(23, 60)\n"
     ]
    }
   ],
   "source": [
    "def add_mul(x, y):\n",
    "    s = x + y\n",
    "    m = x * y\n",
    "    \n",
    "    return s, m\n",
    "\n",
    "c = add_mul(20, 3)\n",
    "print(type(c))\n",
    "print(c)"
   ]
  }
 ],
 "metadata": {
  "kernelspec": {
   "display_name": "Python 3",
   "language": "python",
   "name": "python3"
  },
  "language_info": {
   "codemirror_mode": {
    "name": "ipython",
    "version": 3
   },
   "file_extension": ".py",
   "mimetype": "text/x-python",
   "name": "python",
   "nbconvert_exporter": "python",
   "pygments_lexer": "ipython3",
   "version": "3.7.6"
  }
 },
 "nbformat": 4,
 "nbformat_minor": 4
}
