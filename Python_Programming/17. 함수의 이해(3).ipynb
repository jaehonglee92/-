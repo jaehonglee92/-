{
 "cells": [
  {
   "cell_type": "markdown",
   "metadata": {},
   "source": [
    "### variable scope (변수의 범위)\n",
    "* 변수가 참조 가능한 코드상의 범위를 명시\n",
    "* 함수 내의 변수는 자신이 속한 코드 블록이 종료되면 소멸됨\n",
    "* 이렇게 특정 코드 블록에서 선언된 변수를 지역변수(local variable) 이라고 함\n",
    "* 반대로 가장 상단에서 정의되어 프로그램 종료 전까지 유지되는 변수를 전역변수(global variable) 이라고 함\n",
    "* 같은 이름의 지역변수와 전역변수가 존재할 경우, 지역변수의 우선순위가 더 높음"
   ]
  },
  {
   "cell_type": "code",
   "execution_count": 2,
   "metadata": {},
   "outputs": [
    {
     "name": "stdout",
     "output_type": "stream",
     "text": [
      "1 2\n",
      "10 30\n"
     ]
    }
   ],
   "source": [
    "num1 = 10\n",
    "num2 = 30\n",
    "\n",
    "def test(num1, num2):\n",
    "    print(num1, num2)\n",
    "    return num1 + num2\n",
    "\n",
    "test(1, 2)\n",
    "print(num1, num2)"
   ]
  },
  {
   "cell_type": "markdown",
   "metadata": {},
   "source": [
    "### variable length argument (가변길이 인자)\n",
    "* 전달되는 파라미터의 개수가 고정적이지 않은 경우 사용\n",
    "* e.g)\n",
    "  + print 함수\n",
    "  + format 함수\n",
    "  + *args, **kwargs\n",
    "  + *args: 파라미터를 튜플의 형태로 전달\n",
    "  + **kwargs: 파라미터를 딕셔너리 형태로 전달(네임드 파라미터)"
   ]
  },
  {
   "cell_type": "code",
   "execution_count": 5,
   "metadata": {},
   "outputs": [
    {
     "name": "stdout",
     "output_type": "stream",
     "text": [
      "<class 'tuple'>\n"
     ]
    }
   ],
   "source": [
    "def test(*x): # arguments, args\n",
    "    print(type(x))\n",
    "    \n",
    "test(10)"
   ]
  },
  {
   "cell_type": "markdown",
   "metadata": {},
   "source": [
    "### keyword parameter (키워드 파라미터)\n",
    "* **가 붙은 경우에는 키워드 파라미터로 인식\n",
    "* 즉, 함수 호출 시, 파라미터의 이름과 값을 함께 전달 가능"
   ]
  },
  {
   "cell_type": "code",
   "execution_count": 12,
   "metadata": {},
   "outputs": [
    {
     "name": "stdout",
     "output_type": "stream",
     "text": [
      "<class 'NoneType'>\n",
      "key: a , value: 1\n",
      "key: b , value: 2\n",
      "key: c , value: 3\n",
      "key: d , value: 4\n",
      "key: name , value: Bob\n"
     ]
    }
   ],
   "source": [
    "def test2(**x):\n",
    "    for key, value in x.items():\n",
    "        print('key:', key, ', value:', value)\n",
    "    \n",
    "print(type(test2())) \n",
    "test2(a=1, b=2, c=3, d=4, name='Bob')"
   ]
  },
  {
   "cell_type": "markdown",
   "metadata": {},
   "source": [
    "### 가변길이 함수의 대표적인 예. 문자열 포맷 함수\n",
    "* 여러가지 값과 포맷을 이용하여 문자열을 정의할 수 있는 함수\n",
    "* {} placeholder를 문자열 내에 위치 시킨 후, 해당 위치에 format 함수로 전달된 값으로 대체하여 문자열 생성"
   ]
  },
  {
   "cell_type": "code",
   "execution_count": 16,
   "metadata": {},
   "outputs": [
    {
     "name": "stdout",
     "output_type": "stream",
     "text": [
      "오늘 온도: 20도, 강수 확률: 50%\n"
     ]
    }
   ],
   "source": [
    "a = '오늘 온도: {}도, 강수 확률: {}%'.format(20, 50)\n",
    "print(a)"
   ]
  }
 ],
 "metadata": {
  "kernelspec": {
   "display_name": "Python 3",
   "language": "python",
   "name": "python3"
  },
  "language_info": {
   "codemirror_mode": {
    "name": "ipython",
    "version": 3
   },
   "file_extension": ".py",
   "mimetype": "text/x-python",
   "name": "python",
   "nbconvert_exporter": "python",
   "pygments_lexer": "ipython3",
   "version": "3.7.6"
  }
 },
 "nbformat": 4,
 "nbformat_minor": 4
}
