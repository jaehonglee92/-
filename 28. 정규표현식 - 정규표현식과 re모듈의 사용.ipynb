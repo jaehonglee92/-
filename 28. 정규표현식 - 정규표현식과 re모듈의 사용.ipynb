{
 "metadata": {
  "language_info": {
   "codemirror_mode": {
    "name": "ipython",
    "version": 3
   },
   "file_extension": ".py",
   "mimetype": "text/x-python",
   "name": "python",
   "nbconvert_exporter": "python",
   "pygments_lexer": "ipython3",
   "version": "3.9.0-final"
  },
  "orig_nbformat": 2,
  "kernelspec": {
   "name": "python3",
   "display_name": "Python 3.9.0 64-bit",
   "metadata": {
    "interpreter": {
     "hash": "2ca6c06c2664736a379bfaa58dd53cad7f2925caa4ad652310456acaa1540791"
    }
   }
  }
 },
 "nbformat": 4,
 "nbformat_minor": 2,
 "cells": [
  {
   "source": [
    "### 1. 정규표현식(re)에 대한 이해 및 숙지"
   ],
   "cell_type": "markdown",
   "metadata": {}
  },
  {
   "source": [
    "* 정규표현식\n",
    "    + regular expression\n",
    "    + 특정한 패턴과 일치하는 문자열을 '검색', '치환', '제거'하는 기능을 지원\n",
    "    + 정규표현식의 도움없이 패턴을 찾는 직업(Rule 기반)은 불완전 하거나, 작업의 cost가 높음\n",
    "    + e.g) 이메일 형식 판별, 전화번호 형식 판별, 숫자로만 이루어진 문자열 등\n",
    "\n",
    "* raw string\n",
    "    + 문자열 앞에 r이 붙으면 해당 문자열이 구성된 그대로 문자열로 변환"
   ],
   "cell_type": "markdown",
   "metadata": {}
  },
  {
   "cell_type": "code",
   "execution_count": 1,
   "metadata": {},
   "outputs": [
    {
     "output_type": "stream",
     "name": "stdout",
     "text": [
      "abcdef\n\nabcdef\\n\n"
     ]
    }
   ],
   "source": [
    "a = 'abcdef\\n' # escape 문자열\n",
    "print(a)\n",
    "\n",
    "b = r'abcdef\\n'\n",
    "print(b)"
   ]
  },
  {
   "source": [
    "### 기본 패턴\n",
    "* a, X, 9 등등 문자 하나 하나의 character들은 정확히 해당 문자와 일치\n",
    "    + e.g) 패턴 test는 test 문자열과 일치\n",
    "    + 대소문자의 경우 기본적으로 구별하나, 구별하지 않도록 설정 가능\n",
    "* 몇몇 문자들에 대해서는 예외가 존재하는데, 이들은 특별한 의미로 사용 됨\n",
    "    + . ^ $ * + ? {} [] / | ()\n",
    "* . (마침표) - 어떤 한 개의 character와 일치 (newline(엔터) 제외)\n",
    "* \\w - 문자 character와 일치 [a-zA-Z0-9]\n",
    "* \\s - 공백문자와 일치\n",
    "* \\t, \\n, \\r - tab, newline, return\n",
    "* \\d - 숫자 character와 일치 [0-9]\n",
    "* ^ = 시작, $ = 끝 각각 문자열의 시작과 끝을 의미\n",
    "* \\가 붙으면 스페셜한 의미가 없어짐. 예를 들어 \\는 .자체를 의미. \\\\는 \\를 의미"
   ],
   "cell_type": "markdown",
   "metadata": {}
  },
  {
   "source": [
    "### search method\n",
    "    * 첫 번째로 패턴을 찾으면 match 객체를 반환\n",
    "    * 패턴을 찾지 못하면 None 반환"
   ],
   "cell_type": "markdown",
   "metadata": {}
  },
  {
   "cell_type": "code",
   "execution_count": 4,
   "metadata": {},
   "outputs": [],
   "source": [
    "import re"
   ]
  },
  {
   "cell_type": "code",
   "execution_count": 7,
   "metadata": {},
   "outputs": [
    {
     "output_type": "stream",
     "name": "stdout",
     "text": [
      "3\n6\nabc\n"
     ]
    }
   ],
   "source": [
    "m = re.search(r'abc', '123abcdef')\n",
    "print(m.start())\n",
    "print(m.end())\n",
    "print(m.group())"
   ]
  },
  {
   "cell_type": "code",
   "execution_count": 8,
   "metadata": {},
   "outputs": [
    {
     "output_type": "execute_result",
     "data": {
      "text/plain": [
       "<re.Match object; span=(0, 2), match='11'>"
      ]
     },
     "metadata": {},
     "execution_count": 8
    }
   ],
   "source": [
    "m = re.search(r'\\d\\d', '112abcdef119') # 두 번 연속된 숫자 탐색\n",
    "m"
   ]
  },
  {
   "cell_type": "code",
   "execution_count": 9,
   "metadata": {},
   "outputs": [
    {
     "output_type": "execute_result",
     "data": {
      "text/plain": [
       "<re.Match object; span=(4, 8), match='%@AB'>"
      ]
     },
     "metadata": {},
     "execution_count": 9
    }
   ],
   "source": [
    "m = re.search(r'..\\w\\w', '$%#$%@ABCDabcd')\n",
    "m"
   ]
  },
  {
   "source": [
    "### metacharacters(메타 캐릭터)\n",
    "\n",
    "### []문자들의 범위를 나타내기 위해 사용\n",
    "+ [] 내부의 메타 캐릭터는 캐릭터 자체를 나타냄\n",
    "+ e.g)\n",
    "+ [[abck]]]: a or b or c or k\n",
    "+ [[abc.^]] : a or b or c or . or ^\n",
    "+ [[a-d]] : -와 함께 사용되면 해당 문자 사이의 범위에 속하는 문자 중 하나\n",
    "+ [[0-9]] : 모든 숫자\n",
    "+ [[a-z]] : 모든 소문자\n",
    "+ [[A-Z]] : 모든 대문자\n",
    "+ [[a-zA-Z0-9]] : 모든 알파벳 문자 및 숫자\n",
    "+ [[^0-9]] : ^가 맨 앞에 사용 되는 경우 해당 문자 패턴이 아닌 것과 매칭"
   ],
   "cell_type": "markdown",
   "metadata": {}
  },
  {
   "cell_type": "code",
   "execution_count": 12,
   "metadata": {},
   "outputs": [
    {
     "output_type": "execute_result",
     "data": {
      "text/plain": [
       "<re.Match object; span=(0, 3), match='bat'>"
      ]
     },
     "metadata": {},
     "execution_count": 12
    }
   ],
   "source": [
    "re.search(r'[cbm]at', 'bat')  # cbm중 하나의 문자 + at"
   ]
  },
  {
   "cell_type": "code",
   "execution_count": 13,
   "metadata": {},
   "outputs": [
    {
     "output_type": "execute_result",
     "data": {
      "text/plain": [
       "<re.Match object; span=(0, 5), match='1haha'>"
      ]
     },
     "metadata": {},
     "execution_count": 13
    }
   ],
   "source": [
    "re.search(r'[0-9]haha', '1hahah')"
   ]
  },
  {
   "cell_type": "code",
   "execution_count": 15,
   "metadata": {},
   "outputs": [],
   "source": [
    "re.search(r'[abc.^]aron', 'aron')"
   ]
  },
  {
   "cell_type": "code",
   "execution_count": 16,
   "metadata": {},
   "outputs": [
    {
     "output_type": "execute_result",
     "data": {
      "text/plain": [
       "<re.Match object; span=(0, 5), match='#aron'>"
      ]
     },
     "metadata": {},
     "execution_count": 16
    }
   ],
   "source": [
    "re.search(r'[^abc]aron', '#aron')"
   ]
  },
  {
   "cell_type": "code",
   "execution_count": null,
   "metadata": {},
   "outputs": [],
   "source": []
  }
 ]
}